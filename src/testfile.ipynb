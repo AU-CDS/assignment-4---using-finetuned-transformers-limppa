{
 "cells": [
  {
   "cell_type": "code",
   "execution_count": 13,
   "metadata": {},
   "outputs": [],
   "source": [
    "#### IMPORT PACKAGES\n",
    "import pandas as pd\n",
    "import os\n",
    "import sys\n",
    "import matplotlib.pyplot as plt\n",
    "from transformers import pipeline\n",
    "import seaborn as sns\n",
    "\n",
    "# add parent directory to the Python path\n",
    "sys.path.append(\"..\")"
   ]
  },
  {
   "cell_type": "code",
   "execution_count": 30,
   "metadata": {},
   "outputs": [
    {
     "name": "stderr",
     "output_type": "stream",
     "text": [
      "All model checkpoint layers were used when initializing TFRobertaForSequenceClassification.\n",
      "\n",
      "All the layers of TFRobertaForSequenceClassification were initialized from the model checkpoint at j-hartmann/emotion-english-distilroberta-base.\n",
      "If your task is similar to the task the model of the checkpoint was trained on, you can already use TFRobertaForSequenceClassification for predictions without further training.\n",
      "/home/coder/.local/lib/python3.9/site-packages/transformers/pipelines/text_classification.py:104: UserWarning: `return_all_scores` is now deprecated,  if want a similar funcionality use `top_k=None` instead of `return_all_scores=True` or `top_k=1` instead of `return_all_scores=False`.\n",
      "  warnings.warn(\n"
     ]
    }
   ],
   "source": [
    "#### INITIALIZE HUGGINGFACE PIPELINE\n",
    "classifier = pipeline(\"text-classification\", \n",
    "                      model=\"j-hartmann/emotion-english-distilroberta-base\", \n",
    "                      return_all_scores=True)"
   ]
  },
  {
   "cell_type": "code",
   "execution_count": 80,
   "metadata": {},
   "outputs": [],
   "source": [
    "##### READ IN DATA\n",
    "filename = os.path.join(\"..\",\"in\", \"fake_or_real_news.csv\")\n",
    "data = pd.read_csv(filename, index_col = 0)\n",
    "data = data.reset_index(drop = True) # this was added to prevent errors in the for loop\n",
    "headlines = data[\"title\"]\n",
    "fake_or_real = data[\"label\"] # label here refers to fake/real"
   ]
  },
  {
   "cell_type": "code",
   "execution_count": 97,
   "metadata": {},
   "outputs": [
    {
     "name": "stdout",
     "output_type": "stream",
     "text": [
      "   real/fake   emotion  count  proportion\n",
      "0       FAKE     anger      5    0.116279\n",
      "1       FAKE   disgust      3    0.069767\n",
      "2       FAKE      fear      7    0.162791\n",
      "3       FAKE       joy      1    0.023256\n",
      "4       FAKE   neutral     23    0.534884\n",
      "5       FAKE   sadness      2    0.046512\n",
      "6       FAKE  surprise      2    0.046512\n",
      "7       REAL     anger      8    0.140351\n",
      "8       REAL   disgust      3    0.052632\n",
      "9       REAL      fear     11    0.192982\n",
      "10      REAL       joy      1    0.017544\n",
      "11      REAL   neutral     28    0.491228\n",
      "12      REAL   sadness      4    0.070175\n",
      "13      REAL  surprise      2    0.035088\n"
     ]
    }
   ],
   "source": [
    "# create empty df to store results\n",
    "results_df = pd.DataFrame(columns=[\"real/fake\", \"emotion\", \"count\", \"proportion\"])\n",
    "\n",
    "# Only going through the first 100 headlines to save time while testing\n",
    "for i, headline in enumerate(headlines[:100]):\n",
    "    preds = classifier(headline)\n",
    "    top_emotion = max(preds[0], key=lambda x:x['score'])\n",
    "    predicted_emotion = top_emotion['label']\n",
    "    news_label = fake_or_real[i]\n",
    "\n",
    "    # append predicted emotion and real/fake label to the df\n",
    "    results_df.loc[len(results_df)] = [news_label, predicted_emotion, 1, None]\n",
    "\n",
    "# group results by \"real/fake\" and \"emotion\" and sum the counts\n",
    "grouped_results_df = results_df.groupby([\"real/fake\", \"emotion\"], as_index=False)[\"count\"].sum()\n",
    "\n",
    "# calculate the total count for each \"real/fake\" group\n",
    "total_count = grouped_results_df.groupby(\"real/fake\", as_index=False)[\"count\"].sum()\n",
    "\n",
    "# calculate the proportion for each group\n",
    "results_df[\"proportion\"] = results_df.apply(lambda x: x[\"count\"] / total_count[total_count[\"real/fake\"] == x[\"real/fake\"]][\"count\"].values[0], axis=1)\n",
    "\n",
    "# group the results by \"real/fake\" and \"emotion\" again and sum the counts and proportions\n",
    "grouped_results_df = results_df.groupby([\"real/fake\", \"emotion\"], as_index=False).agg({\"count\": \"sum\", \"proportion\": \"sum\"})\n",
    "\n",
    "# Print the grouped results DataFrame\n",
    "print(grouped_results_df)"
   ]
  },
  {
   "cell_type": "code",
   "execution_count": 100,
   "metadata": {},
   "outputs": [
    {
     "data": {
      "image/png": "[encoded data removed]",
      "text/plain": [
       "<Figure size 640x480 with 1 Axes>"
      ]
     },
     "metadata": {},
     "output_type": "display_data"
    }
   ],
   "source": [
    "# create a bar chart using seaborn\n",
    "sns.barplot(data=grouped_results_df, x=\"real/fake\", y=\"proportion\", hue=\"emotion\")\n",
    "\n",
    "# display the plot\n",
    "plt.show()"
   ]
  }
 ],
 "metadata": {
  "kernelspec": {
   "display_name": "Python 3",
   "language": "python",
   "name": "python3"
  },
  "language_info": {
   "codemirror_mode": {
    "name": "ipython",
    "version": 3
   },
   "file_extension": ".py",
   "mimetype": "text/x-python",
   "name": "python",
   "nbconvert_exporter": "python",
   "pygments_lexer": "ipython3",
   "version": "3.9.2"
  },
  "orig_nbformat": 4
 },
 "nbformat": 4,
 "nbformat_minor": 2
}
